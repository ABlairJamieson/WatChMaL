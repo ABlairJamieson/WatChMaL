{
 "cells": [
  {
   "cell_type": "markdown",
   "metadata": {},
   "source": [
    "# Notebook to test the new Digitizer class:\n",
    "\n",
    "1) Tune to get parameters similar to WCSim\n",
    "\n",
    "2) Tune to get parameters for IWCD electronics\n",
    "\n",
    "3) Make plots of intermediate steps in digitization\n"
   ]
  },
  {
   "cell_type": "code",
   "execution_count": 1,
   "metadata": {},
   "outputs": [],
   "source": [
    "from torch.utils.data import Dataset\n",
    "import h5py\n",
    "import numpy as np\n",
    "from scipy.optimize import curve_fit\n",
    "from mpl_toolkits.mplot3d import Axes3D\n",
    "import matplotlib.pyplot as plt\n",
    "import math\n",
    "import random\n",
    "from watchmal.dataset.h5_dataset import H5Dataset, H5TrueDataset\n",
    "from watchmal.dataset.DigiTruthMapping import DigiTruthMapping, print_time\n",
    "from watchmal.dataset.Digitizer import Digitizer, get_wf_peak_guesses, pulseshape, plot_fitted_waveform"
   ]
  },
  {
   "cell_type": "code",
   "execution_count": 2,
   "metadata": {},
   "outputs": [],
   "source": [
    "  \n",
    "class h5DigiDataSet( H5Dataset ):\n",
    "    \"\"\"\n",
    "    Initialize digihits dataset with basic access to hits, charges and times through the get_data method. \n",
    "    \"\"\"\n",
    "    def __init__(self, h5_path):\n",
    "        H5Dataset.__init__( self, h5_path )\n",
    "               \n",
    "    def get_data(self, hit_pmts, hit_charges, hit_times):\n",
    "        return (hit_pmts, hit_charges, hit_times )        \n",
    "        \n",
    "class h5TruthWCLikeDataSet( H5TrueDataset ):\n",
    "    \"\"\"\n",
    "    Initializes truehits dataset with basic access to hits, charges and times through the get_data method.\n",
    "    Use digitization class with parameters set to match WCSim digitization.  Acccess to all of the digitization\n",
    "    internals is in the instance self.digi.\n",
    "    \"\"\"\n",
    "    def __init__(self, h5_path):\n",
    "        H5TrueDataset.__init__( self, h5_path )\n",
    "        self.digi = Digitizer()\n",
    "        self.digi.bwf_dt = 0.1\n",
    "\n",
    "    def get_data(self, hit_pmts, hit_charges, hit_times):\n",
    "        return (hit_pmts, hit_charges, hit_times )   \n",
    "    \n",
    "    def digitize(self,truepmts,truetimes,trueparents):\n",
    "        \"\"\"\n",
    "        Overload existing digitization.\n",
    "        \"\"\"\n",
    "        print(\"h5TruthWCLikeDataSet: digitize event\")\n",
    "        return self.digi.digitize_event( truepmts, truetimes )\n",
    "    \n",
    "    def gettruth(self, item):\n",
    "        if not hasattr(self, 'h5_file'):\n",
    "            self.open_hdf5()\n",
    "        \n",
    "        start             = self.event_hits_index[item]\n",
    "        stop              = self.event_hits_index[item + 1]\n",
    "        self.true_pmts    = self.hit_pmt   [start:stop].astype(np.int16)\n",
    "        self.true_times   = self.time      [start:stop]\n",
    "        self.true_parents = self.hit_parent[start:stop]\n",
    "\n",
    "        return (self.true_pmts, self.true_times, self.true_parents )\n",
    "    "
   ]
  },
  {
   "cell_type": "code",
   "execution_count": 3,
   "metadata": {},
   "outputs": [],
   "source": [
    "class h5TruthIWCDDataSet( H5TrueDataset ):\n",
    "    \"\"\"\n",
    "    Initializes truehits dataset with basic access to hits, charges and times through the get_data method.\n",
    "    Use digitization class with parameters set to match WCSim digitization.  Acccess to all of the digitization\n",
    "    internals is in the instance self.digi.\n",
    "    \"\"\"\n",
    "    def __init__(self, h5_path):\n",
    "        H5TrueDataset.__init__( self, h5_path )\n",
    "        self.digi = Digitizer()\n",
    "\n",
    "    def get_data(self, hit_pmts, hit_charges, hit_times):\n",
    "        return (hit_pmts, hit_charges, hit_times )   \n",
    "    \n",
    "    def digitize(self,truepmts,truetimes,trueparents):\n",
    "        \"\"\"\n",
    "        Overload existing digitization.\n",
    "        \"\"\"\n",
    "        print(\"h5TruthWCLikeDataSet: digitize event\")\n",
    "        return self.digi.digitize_event( truepmts, truetimes )\n",
    "    \n",
    "    def gettruth(self, item):\n",
    "        if not hasattr(self, 'h5_file'):\n",
    "            self.open_hdf5()\n",
    "        \n",
    "        start             = self.event_hits_index[item]\n",
    "        stop              = self.event_hits_index[item + 1]\n",
    "        self.true_pmts    = self.hit_pmt   [start:stop].astype(np.int16)\n",
    "        self.true_times   = self.time      [start:stop]\n",
    "        self.true_parents = self.hit_parent[start:stop]\n",
    "\n",
    "        return (self.true_pmts, self.true_times, self.true_parents )"
   ]
  },
  {
   "cell_type": "code",
   "execution_count": 4,
   "metadata": {},
   "outputs": [],
   "source": [
    "dataset = h5DigiDataSet( h5_path=\"/bigdisk/jamieson/IWCD_mPMT_Short/IWCD_mPMT_Short_emg_E0to1000MeV_digihits.h5\" ) \n",
    "mcset   = h5TruthWCLikeDataSet( h5_path=\"/bigdisk/jamieson/IWCD_mPMT_Short/IWCD_mPMT_Short_emg_E0to1000MeV_truehits.h5\" )\n",
    "mcset2  = h5TruthIWCDDataSet( h5_path=\"/bigdisk/jamieson/IWCD_mPMT_Short/IWCD_mPMT_Short_emg_E0to1000MeV_truehits.h5\" )"
   ]
  },
  {
   "cell_type": "code",
   "execution_count": 5,
   "metadata": {},
   "outputs": [],
   "source": [
    "dtm = DigiTruthMapping('data_for_truth.pkl', 'truth_for_data.pkl')"
   ]
  },
  {
   "cell_type": "code",
   "execution_count": 6,
   "metadata": {},
   "outputs": [
    {
     "name": "stdout",
     "output_type": "stream",
     "text": [
      "geofile.filse=  ['tube_no', 'position', 'orientation']\n",
      "tubes = [    1     2     3 ... 10182 10183 10184]\n",
      "R= 399.0980529785156 H= 592.8981323242188  Circumference= 2507.6070225985895  Circ2= 1253.8035112992948\n",
      "min_x= -399.0980529785156 max_x= 399.0980529785156 diameter= 798.1961059570312\n",
      "min_z= -399.0980529785156 max_z= 399.0980529785156 diameter= 798.1961059570312\n",
      "min_y= -296.4490661621094 max_y= 296.4490661621094 height= 592.8981323242188\n"
     ]
    }
   ],
   "source": [
    "#use new geofile\n",
    "\n",
    "\n",
    "geofile = np.load('/home/jamieson/ml/geo_mPMTshort.npz',allow_pickle=True)\n",
    "\n",
    "print(\"geofile.filse= \",geofile.files)\n",
    "\n",
    "tubes = geofile[ 'tube_no' ]\n",
    "print(\"tubes =\", tubes )\n",
    "\n",
    "tube_xyz = geofile[ 'position' ]\n",
    "tube_x = tube_xyz[:,0]\n",
    "tube_y = tube_xyz[:,1]\n",
    "tube_z = tube_xyz[:,2]\n",
    "R = (tube_x.max() - tube_x.min())/2.0\n",
    "H = tube_y.max() - tube_y.min()\n",
    "Circumference = 2*math.pi*R\n",
    "Circ2 = math.pi*R\n",
    "print(\"R=\",R, \"H=\",H,\" Circumference=\", Circumference, \" Circ2=\",Circ2)\n",
    "print( \"min_x=\",tube_x.min(), \"max_x=\", tube_x.max(), \"diameter=\", tube_x.max() - tube_x.min() )\n",
    "print( \"min_z=\",tube_z.min(), \"max_z=\", tube_z.max(), \"diameter=\", tube_z.max() - tube_z.min() )\n",
    "print( \"min_y=\",tube_y.min(), \"max_y=\", tube_y.max(), \"height=\", tube_y.max() - tube_y.min() )\n"
   ]
  },
  {
   "cell_type": "code",
   "execution_count": 7,
   "metadata": {},
   "outputs": [],
   "source": [
    "\n",
    "\n",
    "def PMT_to_flat_cylinder_map_positive( tubes, tube_xyz ):\n",
    "    \"\"\"\n",
    "    Build dictionary of PMT number, to (x,y) on a flat cylinder\n",
    "    \n",
    "    N.B. Tube numbers in full geometry file go from 1:NPMTs, but it seems like\n",
    "    the event data number from 0:NPMTs-1, so subtracting 1 from tube number here?\n",
    "    \n",
    "    \"\"\"\n",
    "    mapping = {}\n",
    "    for idx, tube in enumerate(tubes):\n",
    "        x = tube_xyz[idx,0]\n",
    "        y = tube_xyz[idx,1]\n",
    "        z = tube_xyz[idx,2]\n",
    "        if ( y > 275. ):\n",
    "            # in top circle of cylinder\n",
    "            xflat = x+Circ2\n",
    "            yflat = 1750 + z\n",
    "            mapping[ int( tube-1 ) ] = [ int(round(xflat)), int(round(yflat)) ]\n",
    "            \n",
    "        elif ( y < -275.):\n",
    "            # in bottom circle of cylinder\n",
    "            xflat = x+Circ2\n",
    "            yflat = 350.0 + z\n",
    "            mapping[ int( tube-1 ) ] = [ int(round(xflat)), int(round(yflat)) ]\n",
    "            \n",
    "        else:\n",
    "            # in barrel part of cylinder\n",
    "            theta = math.atan2( z, x )\n",
    "            xflat = R * theta + Circ2\n",
    "            yflat = y + 1050\n",
    "            mapping[ int( tube-1 ) ] = [ int(round(xflat)), int(round(yflat)) ]\n",
    "    return mapping\n",
    "\n",
    "PMTFlatMapPositive = PMT_to_flat_cylinder_map_positive( tubes, tube_xyz )\n",
    "\n"
   ]
  },
  {
   "cell_type": "markdown",
   "metadata": {},
   "source": [
    "Display Events"
   ]
  },
  {
   "cell_type": "code",
   "execution_count": 8,
   "metadata": {},
   "outputs": [],
   "source": [
    "evno = 0\n",
    "def GetTrueEvent( mcset, entry ):\n",
    "    \"\"\"\n",
    "    Input is H5TruthData object and entry number.\n",
    "    Outputs:\n",
    "    truepmts: np.array of PMT numbers hit, and corresponding\n",
    "    truetimes: np.array of times PMT was hit\n",
    "    trueparents: np.array of parent number of photon hitting PMT (-1 for dark noise)\n",
    "    \"\"\"\n",
    "    return mcset.gettruth(entry) \n",
    "\n",
    "truepmts, truetimes, trueparent = GetTrueEvent(mcset, evno)"
   ]
  },
  {
   "cell_type": "code",
   "execution_count": 9,
   "metadata": {},
   "outputs": [],
   "source": [
    "def EventDisplay( tubes, quantities, title=\"Time\", cutrange=[-1,-1] ):\n",
    "    \"\"\"\n",
    "    tubes == np.array of PMTs that were hit\n",
    "    quantities == np.array of PMT quantities (either charge or time)\n",
    "    title == title to add to display\n",
    "    cutrange == minimum and maximum values on plot (or set both same for default)\n",
    "    \"\"\"\n",
    "    \n",
    "    fig = plt.figure(figsize=[12,12]) \n",
    "    preimage = np.zeros( [2200, 2600] )\n",
    "    #maxquantity = quantities.max()\n",
    "    #preimage *= maxquantity*1.2\n",
    "    imgmin = quantities.min()\n",
    "    imgmax = quantities.max()\n",
    "    #error here bc cant iterate over the type int32 \n",
    "    for idx, tube in enumerate( tubes ):\n",
    "        if cutrange[0] != cutrange[1]:\n",
    "            if quantities[idx] < cutrange[0] or quantities[idx] > cutrange[1]:\n",
    "                continue\n",
    "        for dx in range(-4,5):\n",
    "            for dy in range(-4,5):\n",
    "                if abs(dx)==3 and abs(dy)==3:\n",
    "                    continue\n",
    "                    \n",
    "                #print( \"idx=\", idx, \" len(quantities)=\",len(quantities), \" tube=\", tube, \" len(PMTFlatMap)=\", len(PMTFlatMapPositive))\n",
    "                preimage[ PMTFlatMapPositive[tube][1]+dx, PMTFlatMapPositive[tube][0]+dy ] = quantities[idx]\n",
    "\n",
    "    if cutrange[0] != cutrange[1]:\n",
    "        imgmin = cutrange[0]\n",
    "        imgmax = cutrange[1]\n",
    "    plt.imshow( preimage, extent = [-1162.7,1162.7,-1267.7,1267.7], vmin=imgmin, vmax=imgmax )\n",
    "    fig.suptitle(title, fontsize=20)\n",
    "    plt.xlabel('Distance CCW on perimeter from x-axis (cm)', fontsize=18)\n",
    "    plt.ylabel('Y (cm)', fontsize=16)\n",
    "    #plt.set_cmap('YlGnBu')\n",
    "    plt.set_cmap('cubehelix')\n",
    "    #plt.set_cmap('gnuplot2_r')\n",
    "    #plt.set_cmap('gist_heat_r')\n",
    "    #plt.set_cmap('inferno_r')\n",
    "    #plt.set_cmap('pink_r')\n",
    "    plt.colorbar()\n",
    "    \n"
   ]
  },
  {
   "cell_type": "markdown",
   "metadata": {},
   "source": [
    "Histgrams of the time distributions"
   ]
  },
  {
   "cell_type": "code",
   "execution_count": 10,
   "metadata": {},
   "outputs": [],
   "source": [
    "#error with hist\n",
    "\n",
    "def EventDisplayHist( quantities, title=\"Time\", cutrange=[-1,-1] ):\n",
    "    \"\"\"\n",
    "    quantities = np.array of values to histogram\n",
    "    title = title to add to the histogram\n",
    "    cutrange = x-axis range to include in histogram\n",
    "    Makes a histogram with 100 bins\n",
    "    \"\"\"\n",
    "    fig = plt.figure(figsize=[12,12])\n",
    "    imgmin = quantities.min()\n",
    "    imgmax = quantities.max()\n",
    "    if cutrange[0] != cutrange[1]:\n",
    "        imgmin = cutrange[0]\n",
    "        imgmax = cutrange[1]\n",
    "    plt.hist( quantities, 100, [imgmin, imgmax] )\n",
    "    #fig.suptitle(title, fontsize=20)\n",
    "    plt.xlabel( title , fontsize=18)\n",
    "    plt.ylabel('Count / bin', fontsize=16)\n",
    "\n",
    "#EventDisplayHist( digitimes, \"Time\")"
   ]
  },
  {
   "cell_type": "code",
   "execution_count": 11,
   "metadata": {},
   "outputs": [
    {
     "data": {
      "image/png": "[encoded data removed]",
      "text/plain": [
       "<matplotlib.figure.Figure at 0x7fb0f68b4320>"
      ]
     },
     "metadata": {},
     "output_type": "display_data"
    }
   ],
   "source": [
    "EventDisplayHist( np.array(truetimes), \"True Times [ns]\", [0.,50.])"
   ]
  },
  {
   "cell_type": "markdown",
   "metadata": {},
   "source": [
    "# Test intermediate steps in digitization\n",
    "\n",
    "1. building the waveforms\n",
    "2. finding peaks (first guess)\n",
    "3. fitting peaks\n",
    "4. calculating final charge\n"
   ]
  },
  {
   "cell_type": "code",
   "execution_count": 12,
   "metadata": {},
   "outputs": [],
   "source": [
    "item=0\n",
    "start = mcset.event_hits_index[item]\n",
    "stop  = mcset.event_hits_index[item + 1]\n",
    "mcset.true_pmts    = mcset.hit_pmt[start:stop].astype(np.int16)\n",
    "mcset.true_times   = mcset.time[start:stop]\n",
    "mcset.true_parents = mcset.hit_parent[start:stop]\n",
    "\n",
    "\n",
    "mcset.digi.pmt_time_dict = { pmt: mcset.true_times[ mcset.true_pmts==pmt ] for pmt in mcset.true_pmts }\n",
    "mcset.digi.pmt_pe_dict   = { pmt: mcset.digi.get_pes( len(mcset.true_times[ mcset.true_pmts==pmt ]), mcset.digi.globalqe )  for pmt in mcset.true_pmts }\n",
    "mcset.digi.pmt_wf_dict   = { pmt: mcset.digi.build_wavetrain( mcset.digi.pmt_time_dict[pmt], \n",
    "                                                  mcset.digi.pmt_pe_dict[pmt], \n",
    "                                                  mcset.digi.bwf_dt, \n",
    "                                                  mcset.digi.bwf_trange, \n",
    "                                                  mcset.digi.bwf_dcoffset, \n",
    "                                                  mcset.digi.bwf_negpolarity\n",
    "                                                 ) for pmt in mcset.true_pmts }\n",
    "\n"
   ]
  },
  {
   "cell_type": "code",
   "execution_count": 13,
   "metadata": {},
   "outputs": [
    {
     "data": {
      "text/plain": [
       "Text(0,0.5,'ADC on PMT 420')"
      ]
     },
     "execution_count": 13,
     "metadata": {},
     "output_type": "execute_result"
    },
    {
     "data": {
      "image/png": "[encoded data removed]",
      "text/plain": [
       "<matplotlib.figure.Figure at 0x7fb20c007668>"
      ]
     },
     "metadata": {},
     "output_type": "display_data"
    }
   ],
   "source": [
    "pmts= list( mcset.digi.pmt_wf_dict.keys() )\n",
    "(t,adc) = mcset.digi.pmt_wf_dict[ pmts[0] ]\n",
    "plt.plot(t,adc)\n",
    "plt.xlim(-80,220)\n",
    "plt.xlabel( 'time (ns)'%pmts[0] , fontsize=18)\n",
    "plt.ylabel('ADC on PMT %d'%pmts[0], fontsize=18)"
   ]
  },
  {
   "cell_type": "code",
   "execution_count": 14,
   "metadata": {},
   "outputs": [
    {
     "name": "stdout",
     "output_type": "stream",
     "text": [
      "times on PMT  420  are  [5.7391157 5.8238564 5.905989  5.8892837 5.7391157 5.9435143 6.0532923\n",
      " 5.9435143]\n",
      "pes on PMT  420  are  [0.98166275 1.16328227 0.61313226 1.01245041 0.3188686  1.06600761\n",
      " 0.83266219 0.44861449]\n",
      "Total nphotons is  8  total pes is  6.436680575926848\n"
     ]
    },
    {
     "data": {
      "image/png": "[encoded data removed]",
      "text/plain": [
       "<matplotlib.figure.Figure at 0x7fb20be89b38>"
      ]
     },
     "metadata": {},
     "output_type": "display_data"
    }
   ],
   "source": [
    "tt = mcset.digi.pmt_time_dict[ pmts[0] ]\n",
    "pepe = mcset.digi.pmt_pe_dict[ pmts[0] ]\n",
    "plt.scatter(tt,pepe)\n",
    "plt.xlim(-20,220)\n",
    "plt.ylim(0.,2.0)\n",
    "plt.xlabel( 'time (ns)'%pmts[0] , fontsize=18)\n",
    "plt.ylabel('pe on PMT %d'%pmts[0], fontsize=18)\n",
    "print(\"times on PMT \",pmts[0],\" are \",tt)\n",
    "print(\"pes on PMT \",pmts[0],\" are \",pepe)\n",
    "print(\"Total nphotons is \",len(pepe),\" total pes is \",np.sum( pepe ) )"
   ]
  },
  {
   "cell_type": "code",
   "execution_count": 15,
   "metadata": {},
   "outputs": [
    {
     "name": "stdout",
     "output_type": "stream",
     "text": [
      "baseline= 2044.7515875264587\n",
      "peak times= [20355]\n",
      "amplitudes of peaks= [183.75158753]\n"
     ]
    },
    {
     "data": {
      "image/png": "[encoded data removed]",
      "text/plain": [
       "<matplotlib.figure.Figure at 0x7fb20c053668>"
      ]
     },
     "metadata": {},
     "output_type": "display_data"
    }
   ],
   "source": [
    "pmt = pmts[0]\n",
    "pmtwd = mcset.digi.pmt_wf_dict\n",
    "plt.scatter( pmtwd[pmt][0], pmtwd[pmt][1] )\n",
    "(bl, tpks, apks) = get_wf_peak_guesses( pmtwd[pmt][0], pmtwd[pmt][1] )\n",
    "print(\"baseline=\",bl)\n",
    "print(\"peak times=\",tpks)\n",
    "print(\"amplitudes of peaks=\",apks)\n"
   ]
  },
  {
   "cell_type": "code",
   "execution_count": 16,
   "metadata": {},
   "outputs": [
    {
     "name": "stdout",
     "output_type": "stream",
     "text": [
      "window_width= 800\n",
      "twf= [-1975.6 -1975.5 -1975.4 -1975.3 -1975.2 -1975.1 -1975.  -1974.9 -1974.8\n",
      " -1974.7 -1974.6 -1974.5 -1974.4 -1974.3 -1974.2 -1974.1 -1974.  -1973.9\n",
      " -1973.8 -1973.7]\n",
      "adcwf= [2045. 2045. 2045. 2045. 2045. 2045. 2045. 2045. 2045. 2046. 2045. 2045.\n",
      " 2047. 2045. 2045. 2045. 2045. 2045. 2044. 2044.]\n",
      "sigma= [1. 1. 1. 1. 1. 1. 1. 1. 1. 1. 1. 1. 1. 1. 1. 1. 1. 1. 1. 1.]\n",
      "p0= [2044.7515875264587, 183.7515875264587, 35.49999999814872, 10.0]\n"
     ]
    },
    {
     "name": "stderr",
     "output_type": "stream",
     "text": [
      "/home/jamieson/.local/lib/python3.6/site-packages/scipy/optimize/minpack.py:829: OptimizeWarning: Covariance of the parameters could not be estimated\n",
      "  category=OptimizeWarning)\n"
     ]
    },
    {
     "name": "stdout",
     "output_type": "stream",
     "text": [
      "baseline= 2044.7515875264587  tbin= 20355  twf[tbin]= 35.49999999814872  apk= 183.7515875264587\n"
     ]
    },
    {
     "data": {
      "image/png": "[encoded data removed]",
      "text/plain": [
       "<matplotlib.figure.Figure at 0x7fb20bf6df28>"
      ]
     },
     "metadata": {},
     "output_type": "display_data"
    }
   ],
   "source": [
    "#plt.scatter( pmtwd[pmt][0], pmtwd[pmt][1] )\n",
    "#plt.xlim(-64,128)\n",
    "#plt.xlabel( 'time (ns)'%pmts[0] , fontsize=18)\n",
    "#plt.ylabel('ADC on PMT %d'%pmts[0], fontsize=18)\n",
    "\n",
    "twf = pmtwd[pmt][0]\n",
    "adcwf = pmtwd[pmt][1]\n",
    "dtlocal = twf[1]-twf[0]\n",
    "window_width = int( 80/dtlocal )\n",
    "print(\"window_width=\",window_width)\n",
    "adcwferr = 1.0\n",
    "adcwferrs = adcwferr*np.ones( window_width*2 )\n",
    "\n",
    "tbin=tpks[0]\n",
    "apk=apks[0]\n",
    "tmin=244\n",
    "tmax=264\n",
    "print(\"twf=\",twf[tmin:tmax])\n",
    "print(\"adcwf=\",adcwf[tmin:tmax])\n",
    "print(\"sigma=\",adcwferrs[0:tmax-tmin])\n",
    "print(\"p0=\",[bl, apk, twf[ tbin ], 10.0])\n",
    "\n",
    "try:\n",
    "    params, covs = curve_fit( pulseshape, \n",
    "                          twf[ tmin: tmax], \n",
    "                          adcwf[ tmin: tmax],\n",
    "                          sigma = adcwferrs[0:tmax-tmin],\n",
    "                          p0 = [bl, apk, twf[ tbin ], 10.0] )\n",
    "except:\n",
    "    print(\"curve_fit failed tbin=\",tbin,\" tmin=\",tmin,\" tmax=\",tmax,\" len(twf)=\",len(twf))\n",
    "\n",
    "plot_fitted_waveform( \"PMT %d\"%pmt, twf, adcwf, tbin, window_width, params, adcwferr )\n",
    "\n",
    "print(\"baseline=\",bl, \" tbin=\",tbin, \" twf[tbin]=\", twf[tbin], \" apk=\",apk)"
   ]
  },
  {
   "cell_type": "code",
   "execution_count": null,
   "metadata": {},
   "outputs": [
    {
     "data": {
      "image/png": "[encoded data removed]",
      "text/plain": [
       "<matplotlib.figure.Figure at 0x7fb20bfce470>"
      ]
     },
     "metadata": {},
     "output_type": "display_data"
    }
   ],
   "source": [
    "mcset.digi.curpmt      = pmt\n",
    "mcset.digi.peakfits    = {}\n",
    "(tp, qp ) = mcset.digi.get_times_charges_from_wf( pmtwd[pmt][0], pmtwd[pmt][1], mcset.digi.hit_threshold, bl, tpks, apks )\n",
    "plot_fitted_waveform( \"PMT %d\"%pmt, twf, adcwf, tbin, window_width, params, adcwferr )"
   ]
  },
  {
   "cell_type": "markdown",
   "metadata": {},
   "source": [
    "# Built plots of our digitized event vs WCSim\n",
    "\n",
    "- plot1: WCSim time vs our min-time\n",
    "- plot2: WCSim charge vs our charge\n",
    "\n"
   ]
  },
  {
   "cell_type": "code",
   "execution_count": null,
   "metadata": {},
   "outputs": [
    {
     "name": "stdout",
     "output_type": "stream",
     "text": [
      "h5TruthWCLikeDataSet: digitize event\n"
     ]
    }
   ],
   "source": [
    "# digitize one event to look at\n",
    "dtitem = 1\n",
    "mcitem = dtm.get_truth_entry( dtitem )\n",
    "digipmt, digicharge, digitime = dataset[dtitem][\"data\"]\n",
    "ourpmt, ourcharge, ourtime = mcset[mcitem][\"data\"]\n",
    "ourpmt2, ourcharge2, ourtime2 = mcset2[mcitem][\"data\"]\n",
    "\n",
    "wcsim_times = []\n",
    "wcsim_charges = []\n",
    "our_times = []\n",
    "our_charges = []\n",
    "for i in range(len(digipmt)):\n",
    "        pmt = digipmt[i]\n",
    "        for j in range(len(ourpmt)):\n",
    "            if pmt == ourpmt[j]:\n",
    "                wcsim_times.append( digitime[i] )\n",
    "                wcsim_charges.append( digicharge[i] )\n",
    "                our_times.append( ourtime[j]  )\n",
    "                our_charges.append( ourcharge[j] )\n",
    "                break\n",
    "    \n",
    "wcsim_times2 = []\n",
    "wcsim_charges2 = []\n",
    "our_times2 = []\n",
    "our_charges2 = []\n",
    "for i in range(len(digipmt)):\n",
    "        pmt = digipmt[i]\n",
    "        for j in range(len(ourpmt2)):\n",
    "            if pmt == ourpmt2[j]:\n",
    "                wcsim_times2.append( digitime[i] )\n",
    "                wcsim_charges2.append( digicharge[i] )\n",
    "                our_times2.append( ourtime2[j]  )\n",
    "                our_charges2.append( ourcharge2[j] )\n",
    "                break\n",
    "        \n",
    "    "
   ]
  },
  {
   "cell_type": "code",
   "execution_count": null,
   "metadata": {},
   "outputs": [],
   "source": [
    "pmtsfit = list( mcset.digi.pmt_wf_dict.keys() )\n",
    "for i in range(10):\n",
    "    pmt = pmtsfit[i]\n",
    "    if len( mcset.digi.peakfits[pmt] ) > 0:\n",
    "        mcset.digi.plot_waveform_fit( pmt )\n",
    "    "
   ]
  },
  {
   "cell_type": "code",
   "execution_count": null,
   "metadata": {},
   "outputs": [],
   "source": [
    "pmtsfit2 = list( mcset2.digi.pmt_wf_dict.keys() )\n",
    "for i in range(10):\n",
    "    pmt = pmtsfit2[i]\n",
    "    if len( mcset2.digi.peakfits[pmt] ) > 0:\n",
    "        mcset2.digi.plot_waveform_fit( pmt )"
   ]
  },
  {
   "cell_type": "code",
   "execution_count": null,
   "metadata": {},
   "outputs": [],
   "source": [
    "\n",
    "\n",
    "xvals = np.arange(900,1200,1)\n",
    "plt.scatter( xvals, xvals)\n",
    "\n",
    "plt.scatter( wcsim_times, our_times, marker='.')\n",
    "\n",
    "plt.xlim(900,1100)\n",
    "plt.ylim(900,1100)\n",
    "plt.xlabel('WCSim time')\n",
    "plt.ylabel('Our time')\n",
    "\n",
    "\n"
   ]
  },
  {
   "cell_type": "code",
   "execution_count": null,
   "metadata": {},
   "outputs": [],
   "source": [
    "#xvals = np.arange(900,1200,1)\n",
    "#plt.scatter( xvals, xvals)\n",
    "\n",
    "plt.scatter( wcsim_times2, our_times2, marker='.')\n",
    "\n",
    "plt.xlim(900,1100)\n",
    "plt.ylim(900,1100)\n",
    "plt.xlabel('WCSim time')\n",
    "plt.ylabel('Our time')\n"
   ]
  },
  {
   "cell_type": "code",
   "execution_count": null,
   "metadata": {},
   "outputs": [],
   "source": [
    "our_times = np.array(our_times) + 930.0"
   ]
  },
  {
   "cell_type": "code",
   "execution_count": null,
   "metadata": {},
   "outputs": [],
   "source": [
    "import matplotlib.colors as colors\n",
    "fig = plt.figure(figsize=[12,12])\n",
    "#plt.scatter( xvals, xvals)\n",
    "plt.hist2d( wcsim_times, our_times, 1000, [[900, 1200], [900, 1200]],norm=colors.LogNorm(0.5,20000), cmap='cubehelix_r')\n",
    "#plt.xlim(900,1100)\n",
    "#plt.ylim(900,1100)\n",
    "plt.xlabel('WCSim time')\n",
    "plt.ylabel('Our time')\n",
    "plt.colorbar()\n",
    "fig.savefig(\"times.pdf\", bbox_inches='tight')"
   ]
  },
  {
   "cell_type": "code",
   "execution_count": null,
   "metadata": {},
   "outputs": [],
   "source": [
    "fig = plt.figure(figsize=[12,12])\n",
    "plt.hist2d( wcsim_charges, our_charges, 500, [[0,100],[0,100]],norm=colors.LogNorm(0.5,25000), cmap='cubehelix_r')\n",
    "plt.xlabel('WCSim charge (photo electrons)',fontsize=24)\n",
    "plt.ylabel('Our charge (arbitrary)',fontsize=24)\n",
    "plt.colorbar()\n",
    "fig.savefig(\"charges.pdf\", bbox_inches='tight')"
   ]
  },
  {
   "cell_type": "code",
   "execution_count": null,
   "metadata": {},
   "outputs": [],
   "source": []
  },
  {
   "cell_type": "code",
   "execution_count": null,
   "metadata": {},
   "outputs": [],
   "source": []
  },
  {
   "cell_type": "code",
   "execution_count": null,
   "metadata": {},
   "outputs": [],
   "source": []
  }
 ],
 "metadata": {
  "kernelspec": {
   "display_name": "Python 3",
   "language": "python",
   "name": "python3"
  },
  "language_info": {
   "codemirror_mode": {
    "name": "ipython",
    "version": 3
   },
   "file_extension": ".py",
   "mimetype": "text/x-python",
   "name": "python",
   "nbconvert_exporter": "python",
   "pygments_lexer": "ipython3",
   "version": "3.6.9"
  }
 },
 "nbformat": 4,
 "nbformat_minor": 2
}
